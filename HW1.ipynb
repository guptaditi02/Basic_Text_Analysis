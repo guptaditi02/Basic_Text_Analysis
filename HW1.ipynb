{
 "cells": [
  {
   "cell_type": "markdown",
   "metadata": {},
   "source": [
    "# Unstructured Data Analytics HW1\n",
    "\n",
    "Name: Aditi Gupta\n",
    "\n",
    "Andrew ID: argupta\n",
    "\n",
    "Collaborators (if none, say \"none\"; do *not* leave this blank): ChatGPT\n",
    "\n",
    "Wikipedia: https://en.wikipedia.org/wiki/Zipf%27s_law#:~:text=Zipf's%20law%20\n",
    "\n",
    "Site 1: #https://indhumathychelliah.medium.com/different-ways-to-sort-the-list-of-tuples-321be7cd8d01#:~:text=Using%20sorted%20function,-sorted()%20%E2%80%94%20It&text=In%20the%20key%20parameter%2C%20we,which%20specifies%20the%20sorting%20method.&text=It%20will%20sort%20based%20on,will%20sort%20in%20ascending%20order.\n",
    "\n",
    "Reminder: you should not be sharing code."
   ]
  },
  {
   "cell_type": "markdown",
   "metadata": {},
   "source": [
    "**Reminder:** As stated in Lecture 1, homework assignments this semester will be submitted as PDFs and, in particular, we will not be re-running your code. Please make sure that you have run all your code cells so that the code cell outputs are actually displayed. To save your Jupyter notebook as a PDF, we recommend simply using your browser's print functionality and using that to print/save the notebook as a PDF."
   ]
  },
  {
   "cell_type": "markdown",
   "metadata": {},
   "source": [
    "**Warning: make sure your compute environment is set up first.** This homework assignment assumes that you have already installed Anaconda Python 3 and spaCy. Instructions for installing these are part of the tutorial [here](https://www.andrew.cmu.edu/user/georgech/95-865/Anaconda,%20Jupyter,%20and%20spaCy%20setup%20tutorial.pdf)."
   ]
  },
  {
   "cell_type": "markdown",
   "metadata": {},
   "source": [
    "### Instructions\n",
    "1. Fill in your name, Andrew ID, and collaborators above.\n",
    "2. Fill in the code/text blocks to answer each question.\n",
    "3. Do *not* change any of the existing code provided.\n",
    "4. Run the entire notebook *before* submitting it on Canvas to make sure that the code actually runs without errors. (**Important**: Any code cells that you have entered code for but did not actually execute will be disregarded, so please be sure to actually run your code first and make sure it runs without errors! We may re-run a subset of your code for grading purposes.)\n",
    "5. Be careful about where you save data for use with this Jupyter notebook (more details on this later)."
   ]
  },
  {
   "cell_type": "markdown",
   "metadata": {},
   "source": [
    "### [Problem 1] Basic Text Analysis [45 pts]\n",
    "\n",
    "This problem involves a mix of Python review (loops, conditionals, counters/dictionaries, sorting) and learning to work with a sizable collection of text data.\n",
    "\n",
    "You will be looking at a phenomenon of \"natural languages\" (i.e., human languages, such as English) called *Zipf's law*, which relates how frequently a word occurs in a language to its \"rank\" (the word with rank 1 is the most frequently occurring word, the word with rank 2 is the second most frequently occurring word, etc). Roughly speaking, the word with rank 1 appears twice as likely as the word with rank 2, and the three times as likely as the word with rank 3, and so forth. (Some details on Zipf's law can be found on [Wikipedia](https://en.wikipedia.org/wiki/Zipf%27s_law).) In this problem, you are going to check whether Zipf's law holds for a real dataset of text documents.\n",
    "\n",
    "The dataset we look at is a collection of the 100 most popular books downloaded from the [Gutenburg Project](https://www.gutenberg.org/browse/scores/top). These 100 books form the corpus that we consider for this problem. Each file contains the text of a book. We will read in all 100 books.\n",
    "\n",
    "Note: Please *do not* change the folder name or the path, and make sure you use a relative path (e.g. './HW1_Dataset/*filename*) when reading the files. When grading your homework, we will put your Jupyter notebook file and the dataset in the same folder, and run your code. **You will not receive points for this problem if your code fails to load the data.**\n",
    "\n",
    "Hint: To list all files that match a certain pattern, you can use the `glob` package. Here's an example usage:\n",
    "\n",
    "```python\n",
    "import glob\n",
    "print(glob.glob('./HW1_Dataset/*.txt'))\n",
    "```\n",
    "\n",
    "**(a) Warm-up/basic Python review [15 pts across subparts].** This part serves as a warm-up, getting you familiar with the kind of code we will be writing in this class. Note that throughout part (a), your code should **not** be using spaCy.\n",
    "\n",
    "**Subpart i [5 pts].** Write a loop that iterates through all 100 books; for each book, print out its corresponding file name and also how long the book is in terms of string length (meaning that if we load in the book as a string, we compute the length of the string using the built-in Python function `len`; this is just counting the number of characters).\n",
    "\n",
    "**Please do not actually print out the contents of each book since many of the books are extremely long, and by printing out all the books' contents, you'll end up creating a Jupyter notebook that has a massive file size.**\n",
    "\n",
    "Hint: When debugging your code, you may want to first make sure your code runs on a few of the books rather than all 100 (for example, you can start by only having 3 of the text files in `HW1_Dataset`). Once you're confident that your solution is correct on a few text files, then run on all of them! This is a standard approach to debugging code that is meant to handle large datasets.\n",
    "\n",
    "Your output should look like (although there should be 100 books rather than 3 as shown below; also, the ordering of the books might be different on your machine):\n",
    "\n",
    "```\n",
    "./HW1_Dataset/War and Peace by graf Leo Tolstoy (251).txt 3227580\n",
    "./HW1_Dataset/Democracy in America — Volume 1 by Alexis de Tocqueville (147).txt 1148435\n",
    "./HW1_Dataset/Frankenstein; Or, The Modern Prometheus by Mary Wollstonecraft Shelley (501).txt 441034\n",
    "```"
   ]
  },
  {
   "cell_type": "code",
   "execution_count": 289,
   "metadata": {},
   "outputs": [
    {
     "name": "stdout",
     "output_type": "stream",
     "text": [
      "1. ./HW1_Dataset/War and Peace by graf Leo Tolstoy (251).txt 3227580\n",
      "2. ./HW1_Dataset/Democracy in America — Volume 1 by Alexis de Tocqueville (147).txt 1148435\n",
      "3. ./HW1_Dataset/Frankenstein; Or, The Modern Prometheus by Mary Wollstonecraft Shelley (501).txt 441034\n",
      "4. ./HW1_Dataset/The King James Version of the Bible (132).txt 4351846\n",
      "5. ./HW1_Dataset/Et dukkehjem. English by Henrik Ibsen (557).txt 161241\n",
      "6. ./HW1_Dataset/Outpost in the Wilderness_ Fort Wayne, 1706-1828 by Charles Poinsatte (161).txt 363234\n",
      "7. ./HW1_Dataset/The Romance of Lust_ A Classic Victorian erotic novel by Anonymous (294).txt 1051148\n",
      "8. ./HW1_Dataset/The Odyssey by Homer (124).txt 697404\n",
      "9. ./HW1_Dataset/A History of Spanish Literature by James Fitzmaurice-Kelly (109).txt 765918\n",
      "10. ./HW1_Dataset/The Philosophy of Spiritual Activity by Rudolf Steiner (144).txt 545031\n",
      "11. ./HW1_Dataset/My Fifteen Lost Years by Florence Elizabeth Maybrick (499).txt 383694\n",
      "12. ./HW1_Dataset/Prestuplenie i nakazanie. English by Fyodor Dostoyevsky (160).txt 1154508\n",
      "13. ./HW1_Dataset/The History of the Peloponnesian War by Thucydides (122).txt 1200021\n",
      "14. ./HW1_Dataset/Gulliver's Travels into Several Remote Nations of the World by Jonathan Swift (136).txt 600105\n",
      "15. ./HW1_Dataset/The Peddler Spy by W. J. Hamilton (356).txt 197390\n",
      "16. ./HW1_Dataset/Dubliners by James Joyce (219).txt 389199\n",
      "17. ./HW1_Dataset/The Hound of the Baskervilles by Arthur Conan Doyle (223).txt 339188\n",
      "18. ./HW1_Dataset/The Boy Fortune Hunters in China by L. Frank  Baum (215).txt 324452\n",
      "19. ./HW1_Dataset/Leviathan by Thomas Hobbes (417).txt 1231784\n",
      "20. ./HW1_Dataset/The Awakening, and Selected Short Stories by Kate Chopin (192).txt 378936\n",
      "21. ./HW1_Dataset/The Interesting Narrative of the Life of Olaudah Equiano, Or Gustavus Vassa, The African by Equiano (114).txt 471165\n",
      "22. ./HW1_Dataset/Through the Looking-Glass by Lewis Carroll (134).txt 181667\n",
      "23. ./HW1_Dataset/Il Principe. English by Niccolò Machiavelli (428) (Unicode Encoding Conflict).txt 300788\n",
      "24. ./HW1_Dataset/On Liberty by John Stuart Mill (116).txt 325922\n",
      "25. ./HW1_Dataset/The Law of Storms by John Wilson Ross (110).txt 65264\n",
      "26. ./HW1_Dataset/The Strange Case of Dr. Jekyll and Mr. Hyde by Robert Louis Stevenson (170).txt 159542\n",
      "27. ./HW1_Dataset/Liberalism by L. T.  Hobhouse (119).txt 305345\n",
      "28. ./HW1_Dataset/Semmering 1912 by Peter Altenberg (221).txt 264946\n",
      "29. ./HW1_Dataset/Les Misérables by Victor Hugo (165) (Unicode Encoding Conflict).txt 3254333\n",
      "30. ./HW1_Dataset/The Count of Monte Cristo, Illustrated by Alexandre Dumas (160).txt 2643849\n",
      "31. ./HW1_Dataset/Alice in Wonderland by Lewis Carroll and Alice Gerstenberg (126).txt 104079\n",
      "32. ./HW1_Dataset/Common Sense by Thomas Paine (297).txt 145353\n",
      "33. ./HW1_Dataset/Narrative of the Captivity and Restoration of Mrs. Mary Rowlandson by Mary White Rowlandson (222).txt 123784\n",
      "34. ./HW1_Dataset/The Divine Comedy by Dante, Illustrated by Dante Alighieri (119).txt 2161\n",
      "35. ./HW1_Dataset/The Importance of Being Earnest_ A Trivial Comedy for Serious People by Oscar Wilde (454).txt 138887\n",
      "36. ./HW1_Dataset/Walden, and On The Duty Of Civil Disobedience by Henry David Thoreau (180).txt 656207\n",
      "37. ./HW1_Dataset/The Yellow Wallpaper by Charlotte Perkins Gilman (462).txt 50841\n",
      "38. ./HW1_Dataset/Jane Eyre_ An Autobiography by Charlotte Brontë (290) (Unicode Encoding Conflict).txt 1049267\n",
      "39. ./HW1_Dataset/The Kama Sutra of Vatsyayana by Vatsyayana (172).txt 351664\n",
      "40. ./HW1_Dataset/Sense and Sensibility by Jane Austen (177).txt 693095\n",
      "41. ./HW1_Dataset/Adventures of Huckleberry Finn by Mark Twain (401).txt 593962\n",
      "42. ./HW1_Dataset/Heart of Darkness by Joseph Conrad (213).txt 229835\n",
      "43. ./HW1_Dataset/The Republic by Plato (246).txt 1214387\n",
      "44. ./HW1_Dataset/The Complete Works of William Shakespeare by William Shakespeare (132).txt 5465100\n",
      "45. ./HW1_Dataset/The Picture of Dorian Gray by Oscar Wilde (282).txt 453169\n",
      "46. ./HW1_Dataset/The Works of Edgar Allan Poe — Volume 2 by Edgar Allan Poe (137).txt 569966\n",
      "47. ./HW1_Dataset/Ulysses by James Joyce (282).txt 1534140\n",
      "48. ./HW1_Dataset/The Federalist Papers by Alexander Hamilton and John Jay and James Madison (116).txt 1167141\n",
      "49. ./HW1_Dataset/Leaves of Grass by Walt Whitman (164).txt 757361\n",
      "50. ./HW1_Dataset/Narrative of the Life of Frederick Douglass, an American Slave by Frederick Douglass (243).txt 244263\n",
      "51. ./HW1_Dataset/A Study in Scarlet by Arthur Conan Doyle (163).txt 262340\n",
      "52. ./HW1_Dataset/Beowulf An Anglo-Saxon Epic Poem (403).txt 292953\n",
      "53. ./HW1_Dataset/The Wendigo by Algernon Blackwood (174).txt 127464\n",
      "54. ./HW1_Dataset/The Scarlet Letter by Nathaniel Hawthorne (211).txt 506975\n",
      "55. ./HW1_Dataset/Persuasion by Jane Austen (2234).txt 486251\n",
      "56. ./HW1_Dataset/The Time Machine by H. G.  Wells (137).txt 198281\n",
      "57. ./HW1_Dataset/The Guardsman by Homer Greene (175).txt 412900\n",
      "58. ./HW1_Dataset/Carmilla by Joseph Sheridan Le Fanu (135).txt 176408\n",
      "59. ./HW1_Dataset/Uncle Tom's Cabin by Harriet Beecher Stowe (108).txt 1025501\n",
      "60. ./HW1_Dataset/A Tale of Two Cities by Charles Dickens (425).txt 776702\n",
      "61. ./HW1_Dataset/Moby Dick; Or, The Whale by Herman Melville (413).txt 1238569\n",
      "62. ./HW1_Dataset/Songs of Innocence, and Songs of Experience by William Blake (166).txt 51724\n",
      "63. ./HW1_Dataset/Dracula by Bram Stoker (461).txt 867141\n",
      "64. ./HW1_Dataset/Emma by Jane Austen (166).txt 902390\n",
      "65. ./HW1_Dataset/Wuthering Heights by Emily Brontë (179) (Unicode Encoding Conflict).txt 669150\n",
      "66. ./HW1_Dataset/Autobiography of Benjamin Franklin by Benjamin Franklin (247).txt 458600\n",
      "67. ./HW1_Dataset/The Strange Case of Dr. Jekyll and Mr. Hyde by Robert Louis Stevenson (158).txt 158048\n",
      "68. ./HW1_Dataset/Anne of Green Gables by L. M.  Montgomery (114).txt 580635\n",
      "69. ./HW1_Dataset/The Souls of Black Folk by W. E. B.  Du Bois (172).txt 421336\n",
      "70. ./HW1_Dataset/The Confessions of St. Augustine by Bishop of Hippo Saint Augustine (157).txt 622405\n",
      "71. ./HW1_Dataset/Candide by Voltaire (180).txt 224924\n",
      "72. ./HW1_Dataset/The Legend of Sleepy Hollow by Washington Irving (399).txt 89237\n",
      "73. ./HW1_Dataset/Alice's Adventures in Wonderland by Lewis Carroll (564).txt 163817\n",
      "74. ./HW1_Dataset/Peter Pan by J. M.  Barrie (274).txt 278194\n",
      "75. ./HW1_Dataset/The Wonderful Wizard of Oz by L. Frank  Baum (150).txt 227654\n",
      "76. ./HW1_Dataset/The Innocents Abroad by Mark Twain (108).txt 1126278\n",
      "77. ./HW1_Dataset/The Turn of the Screw by Henry James (185).txt 248089\n",
      "78. ./HW1_Dataset/The Adventures of Tom Sawyer by Mark Twain (371).txt 412712\n",
      "79. ./HW1_Dataset/The Tragedy of Romeo and Juliet by William Shakespeare (131).txt 174128\n",
      "80. ./HW1_Dataset/A Modest Proposal by Jonathan Swift (233).txt 38966\n",
      "81. ./HW1_Dataset/A Christmas Carol in Prose; Being a Ghost Story of Christmas by Charles Dickens (265).txt 177758\n",
      "82. ./HW1_Dataset/Essays of Michel de Montaigne — Complete by Michel de Montaigne (205).txt 3033575\n",
      "83. ./HW1_Dataset/The Adventures of Sherlock Holmes by Arthur Conan Doyle (447).txt 581864\n",
      "84. ./HW1_Dataset/Robert Greene by Robert Greene (126).txt 760655\n",
      "85. ./HW1_Dataset/Essays by Ralph Waldo Emerson by Ralph Waldo Emerson (239).txt 557197\n",
      "86. ./HW1_Dataset/The Boy Fortune Hunters in the South Seas by L. Frank  Baum (150).txt 266166\n",
      "87. ./HW1_Dataset/Pride and Prejudice by Jane Austen (1003).txt 704192\n",
      "88. ./HW1_Dataset/My Secret Life, Volumes I. to III. by Anonymous (157).txt 1378627\n",
      "89. ./HW1_Dataset/The Mysterious Affair at Styles by Agatha Christie (115).txt 340770\n",
      "90. ./HW1_Dataset/Treasure Island by Robert Louis Stevenson (236).txt 383675\n",
      "91. ./HW1_Dataset/Hedda Gabler by Henrik Ibsen (123).txt 193875\n",
      "92. ./HW1_Dataset/Metamorphosis by Franz Kafka (483).txt 139056\n",
      "93. ./HW1_Dataset/Great Expectations by Charles Dickens (293).txt 1013450\n",
      "94. ./HW1_Dataset/The Life and Adventures of Robinson Crusoe by Daniel Defoe (126).txt 642909\n",
      "95. ./HW1_Dataset/The Iliad by Homer (256).txt 1175588\n",
      "96. ./HW1_Dataset/The Tragical History of Doctor Faustus by Christopher Marlowe (144).txt 143736\n",
      "97. ./HW1_Dataset/Grimms' Fairy Tales by Jacob Grimm and Wilhelm Grimm (429).txt 540241\n",
      "98. ./HW1_Dataset/Beyond Good and Evil by Friedrich Wilhelm Nietzsche (120).txt 402273\n",
      "99. ./HW1_Dataset/Siddhartha by Hermann Hesse (216).txt 236855\n",
      "100. ./HW1_Dataset/The Faery Queen and Her Knights by Alfred John Church (177).txt 447320\n"
     ]
    }
   ],
   "source": [
    "########################################################################\n",
    "######################### Write your code here #########################\n",
    "########################################################################\n",
    "import glob\n",
    "#num = len(glob.glob('./HW1_Dataset/*.txt'))\n",
    "#print(num)\n",
    "i=1\n",
    "for file in glob.glob('./HW1_Dataset/*.txt'):\n",
    "    with open(file, 'r') as f:\n",
    "        book_content = f.read()\n",
    "        # Compute the string length of the book\n",
    "        book_length = len(book_content)\n",
    "        print (f'{i}. {file} {book_length}')\n",
    "        i+=1"
   ]
  },
  {
   "cell_type": "markdown",
   "metadata": {},
   "source": [
    "**Subpart ii [5 pts].** Copy and paste your code from **subpart i** into the code cell below. Then in the code cell below, modify the code so that it prints out the top 15 longest books (in terms of raw string length, which is what you had already computed). In particular, please write your code so that the printout is of the following format:\n",
    "\n",
    "```\n",
    "1. <number of characters in longest text file> <filename of longest text file>\n",
    "2. <number of characters in 2nd longest text file> <filename of 2nd longest text file>\n",
    "...\n",
    "15. <number of characters in 15th longest text file> <filename of 15th longest text file>\n",
    "```\n",
    "\n",
    "Note: only print out information for the top 15 books in the format above; please do not repeat printing what we asked you to print in **subpart i**."
   ]
  },
  {
   "cell_type": "code",
   "execution_count": 290,
   "metadata": {},
   "outputs": [
    {
     "name": "stdout",
     "output_type": "stream",
     "text": [
      "Top 15 Longest Books:\n",
      "1. 5465100 ./HW1_Dataset/The Complete Works of William Shakespeare by William Shakespeare (132).txt\n",
      "2. 4351846 ./HW1_Dataset/The King James Version of the Bible (132).txt\n",
      "3. 3254333 ./HW1_Dataset/Les Misérables by Victor Hugo (165) (Unicode Encoding Conflict).txt\n",
      "4. 3227580 ./HW1_Dataset/War and Peace by graf Leo Tolstoy (251).txt\n",
      "5. 3033575 ./HW1_Dataset/Essays of Michel de Montaigne — Complete by Michel de Montaigne (205).txt\n",
      "6. 2643849 ./HW1_Dataset/The Count of Monte Cristo, Illustrated by Alexandre Dumas (160).txt\n",
      "7. 1534140 ./HW1_Dataset/Ulysses by James Joyce (282).txt\n",
      "8. 1378627 ./HW1_Dataset/My Secret Life, Volumes I. to III. by Anonymous (157).txt\n",
      "9. 1238569 ./HW1_Dataset/Moby Dick; Or, The Whale by Herman Melville (413).txt\n",
      "10. 1231784 ./HW1_Dataset/Leviathan by Thomas Hobbes (417).txt\n",
      "11. 1214387 ./HW1_Dataset/The Republic by Plato (246).txt\n",
      "12. 1200021 ./HW1_Dataset/The History of the Peloponnesian War by Thucydides (122).txt\n",
      "13. 1175588 ./HW1_Dataset/The Iliad by Homer (256).txt\n",
      "14. 1167141 ./HW1_Dataset/The Federalist Papers by Alexander Hamilton and John Jay and James Madison (116).txt\n",
      "15. 1154508 ./HW1_Dataset/Prestuplenie i nakazanie. English by Fyodor Dostoyevsky (160).txt\n"
     ]
    }
   ],
   "source": [
    "########################################################################\n",
    "######################### Write your code here #########################\n",
    "########################################################################\n",
    "\n",
    "import glob\n",
    "#num = len(glob.glob('./HW1_Dataset/*.txt'))\n",
    "#print(num)\n",
    "books=[]\n",
    "for file in glob.glob('./HW1_Dataset/*.txt'):\n",
    "    with open(file, 'r') as f:\n",
    "        book_content = f.read()\n",
    "        # Compute the string length of the book\n",
    "        book_length = len(book_content)\n",
    "        books.append((file, book_length)) \n",
    "# Site 1\n",
    "sorted_list=sorted(books,key=lambda x:int(x[1]), reverse=True)\n",
    "\n",
    "# Print the top 15 longest books\n",
    "print(\"Top 15 Longest Books:\")\n",
    "for i in range(15):\n",
    "    print(f'{i+1}. {sorted_list[i][1]} {sorted_list[i][0]}')"
   ]
  },
  {
   "cell_type": "markdown",
   "metadata": {},
   "source": [
    "**Subpart iii [5 pts].** You should find that some of the books are quite long. Processing very long books will be problematic with spaCy, so we will want to chop up long books into pieces. Note that later on in the course, we shall see that chopping up large amounts of data into small pieces or \"batches\" is in fact quite common in machine learning since for massive datasets, we often cannot store them in their entirety on a CPU or GPU for processing all at once.\n",
    "\n",
    "As a toy example, suppose that a book's text is `'cat dog shark spam eggs'` and we want to split it up into batches where each batch has at most 3 words. Then we could split up the book's text into two batches/pieces: `'cat dog shark'` and `'spam eggs'`.\n",
    "\n",
    "We have provided code for you to do this below."
   ]
  },
  {
   "cell_type": "code",
   "execution_count": 306,
   "metadata": {},
   "outputs": [
    {
     "name": "stdout",
     "output_type": "stream",
     "text": [
      "['cat dog shark', 'spam eggs']\n"
     ]
    }
   ],
   "source": [
    "import numpy as np\n",
    "\n",
    "def split_into_batches(book_text, max_num_words_per_batch):\n",
    "    words_split_on_spaces = book_text.split(' ')\n",
    "    num_book_pieces = int(np.ceil(len(words_split_on_spaces) /\\\n",
    "                                  max_num_words_per_batch))\n",
    "    batches = []\n",
    "    for piece_idx in range(num_book_pieces):\n",
    "        start_idx = piece_idx * max_num_words_per_batch\n",
    "        end_idx = (piece_idx + 1) * max_num_words_per_batch\n",
    "        if end_idx > len(words_split_on_spaces):\n",
    "            end_idx = len(words_split_on_spaces)\n",
    "        book_piece = ' '.join(words_split_on_spaces[start_idx:end_idx])\n",
    "        batches.append(book_piece)\n",
    "    return batches\n",
    "\n",
    "print(split_into_batches('cat dog shark spam eggs', 3))\n"
   ]
  },
  {
   "cell_type": "markdown",
   "metadata": {},
   "source": [
    "Now write a loop that goes through all 100 books again. However, for each book, split it up into batches so that each batch has at most 10000 words. In this case, how many batches are there total across all 100 books? Please write code that computes this number of batches. Your code should print out the following (with the correct total number of batches):\n",
    "\n",
    "```\n",
    "Total number of batches: <total number of batches across all 100 books>\n",
    "```"
   ]
  },
  {
   "cell_type": "code",
   "execution_count": 292,
   "metadata": {},
   "outputs": [
    {
     "name": "stdout",
     "output_type": "stream",
     "text": [
      "Total number of batches: 1246\n"
     ]
    }
   ],
   "source": [
    "########################################################################\n",
    "######################### Write your code here #########################\n",
    "########################################################################\n",
    "total=0\n",
    "for file in glob.glob('./HW1_Dataset/*.txt'):\n",
    "    with open(file, 'r') as f:\n",
    "        book_content = f.read()\n",
    "    total=total+len(split_into_batches(book_content, 10000))\n",
    "print(f'Total number of batches: {total}')"
   ]
  },
  {
   "cell_type": "markdown",
   "metadata": {},
   "source": [
    "**(b) [10 pts]** Now we will finally use spaCy. Note that for this problem, you don't actually need `spaCy`'s named entity recognition or grammatical parsing. Turning these elements off when you instantiate the `nlp` object can substantially speed up your code. To make sure these are off when instantiating the `nlp` object, call: \n",
    "\n",
    "```python\n",
    "nlp = spacy.load('en_core_web_sm', disable=['ner', 'parser'])\n",
    "```\n",
    "\n",
    "**Throughout this problem, do not remove stopwords.**\n",
    "\n",
    "Build a term frequency (raw counts) table that is for all 100 books. Specifically, building on your solution to part (a)-subpart iii, read in a single book at a time and for each book, do the following:\n",
    "\n",
    "  1. Split it up into batches where each batch has at most 10000 words.\n",
    "  2. For each batch:\n",
    "    1. Process the batch by separating and lemmatizing the words\n",
    "    2. Count the number of times each lemma appears and add these to the frequency table. For simplicity, **do not convert lemmas to lowercase**. (Note that we use raw counts as the \"frequency\"--do not do any division.) Also, as we explain below, we will only count lemmas that are alphabetic.\n",
    "\n",
    "Note that just as we had said in part (a): do **not** print out the complete contents of every book since doing so will result in a Jupyter notebook file that is massive.\n",
    "\n",
    "After looping through all 100 books, you should have the term frequency table for the entire corpus (importantly, the frequency table should not just be for a single book; it should be for all 100 books). Sort the table and print the top 50 most frequent words, along with their frequencies and ranks. Don't worry about ties (for example, if multiple things have the same frequency, it's fine if your solution breaks ties arbitrarily in the sorting).\n",
    "\n",
    "Note: When counting the lemmas, only include lemmas that consist of alphabetic letters (a-z and A-Z). You can do this with what's called a *regular expression*. For example, to check whether the words \"will.i.am\" or \"Tesla\" are alphabetic, you would do the following:\n",
    "\n",
    "```python\n",
    "import re  # regular expression package\n",
    "if re.match('[a-zA-Z]+$', 'will.i.am'):\n",
    "    print('will.i.am consists only of alphabetic letters!')\n",
    "if re.match('[a-zA-Z]+$', 'Tesla'):\n",
    "    print('tesla consists only of alphabetic letters!')\n",
    "```"
   ]
  },
  {
   "cell_type": "code",
   "execution_count": 293,
   "metadata": {},
   "outputs": [
    {
     "name": "stdout",
     "output_type": "stream",
     "text": [
      "the : 702463\n",
      "be : 436114\n",
      "and : 435424\n",
      "of : 386347\n",
      "to : 324409\n",
      "I : 255129\n",
      "a : 233391\n",
      "in : 204248\n",
      "he : 193621\n",
      "that : 159010\n",
      "have : 158132\n",
      "it : 135431\n",
      "not : 111854\n",
      "his : 108536\n",
      "you : 102595\n",
      "with : 101227\n",
      "they : 96821\n",
      "for : 95320\n",
      "as : 90702\n",
      "she : 78524\n",
      "but : 75599\n",
      "my : 73983\n",
      "do : 68754\n",
      "at : 64947\n",
      "on : 62833\n",
      "by : 61274\n",
      "this : 61240\n",
      "we : 60300\n",
      "which : 58868\n",
      "all : 58636\n",
      "say : 58348\n",
      "from : 50095\n",
      "so : 47999\n",
      "or : 47810\n",
      "her : 42838\n",
      "one : 41123\n",
      "will : 40920\n",
      "man : 39585\n",
      "their : 38418\n",
      "what : 37851\n",
      "no : 37795\n",
      "there : 37209\n",
      "if : 34898\n",
      "go : 33897\n",
      "when : 33587\n",
      "an : 32488\n",
      "come : 32358\n",
      "see : 32024\n",
      "would : 31289\n",
      "who : 30934\n"
     ]
    }
   ],
   "source": [
    "########################################################################\n",
    "######################### Write your code here #########################\n",
    "########################################################################\n",
    "import spacy\n",
    "from collections import Counter\n",
    "histogram_with_some_filtering = Counter()\n",
    "import re  # regular expression package\n",
    "# load spaCy's built-in English models\n",
    "nlp = spacy.load('en_core_web_sm', disable=['ner', 'parser'])  \n",
    "\n",
    "for file in glob.glob('./HW1_Dataset/*.txt'):\n",
    "    with open(file, 'r') as f:\n",
    "        book_content = f.read()\n",
    "        batches=split_into_batches(book_content, 10000)\n",
    "\n",
    "        for batch in batches:\n",
    "            parsed_text = nlp(batch)\n",
    "\n",
    "            for token in parsed_text:\n",
    "                lemma = token.lemma_\n",
    "                if re.match('[a-zA-Z]+$', lemma):\n",
    "                    # there's a part of speech 'X' that stands for \n",
    "                    # \"other\" and consists of mostly junk\n",
    "                    \n",
    "                    if not (token.pos_ == 'PUNCT' or token.pos_ ==\\\n",
    "                            'SPACE' or token.pos_ == 'X'):\n",
    "                        histogram_with_some_filtering[lemma] += 1\n",
    "\n",
    "sorted_lemma_count_pairs = histogram_with_some_filtering.\\\n",
    "most_common(50)\n",
    "for lemma, count in sorted_lemma_count_pairs:\n",
    "    print(lemma, \":\", count)"
   ]
  },
  {
   "cell_type": "markdown",
   "metadata": {},
   "source": [
    "**(c) [10 pts]** Visualize the frequency table by plotting a **raw scatter plot** (put frequency as the y-axis and rank as the x-axis), and a **log-log plot** (use logarithmic scales on both the x- and y- axes). Note that this should be for all words and not only the top 50. As before, for the ranks, do not worry about ties, i.e., break ties arbitrarily."
   ]
  },
  {
   "cell_type": "code",
   "execution_count": 294,
   "metadata": {},
   "outputs": [
    {
     "data": {
      "image/png": "[encoded data removed]",
      "text/plain": [
       "<Figure size 1000x500 with 1 Axes>"
      ]
     },
     "metadata": {},
     "output_type": "display_data"
    }
   ],
   "source": [
    "# Raw scatter plot\n",
    "########################################################################\n",
    "######################### Write your code here #########################\n",
    "########################################################################\n",
    "\n",
    "import matplotlib.pyplot as plt\n",
    "import numpy as np\n",
    "\n",
    "# Assuming `term_frequencies` is your Counter object \n",
    "# from the previous operations\n",
    "\n",
    "# Extract frequencies and sort them in descending order\n",
    "\n",
    "frequencies = [freq for word, freq in histogram_with_some_filtering.\\\n",
    "               most_common()]\n",
    "ranks = range(1, len(frequencies) + 1)\n",
    "\n",
    "# Raw Scatter Plot\n",
    "plt.figure(figsize=(10, 5))\n",
    "plt.scatter(ranks, frequencies)\n",
    "plt.title('Frequency vs. Rank')\n",
    "plt.xlabel('Rank')\n",
    "plt.ylabel('Frequency')\n",
    "plt.show()"
   ]
  },
  {
   "cell_type": "code",
   "execution_count": 295,
   "metadata": {},
   "outputs": [
    {
     "data": {
      "image/png": "[encoded data removed]",
      "text/plain": [
       "<Figure size 1000x500 with 1 Axes>"
      ]
     },
     "metadata": {},
     "output_type": "display_data"
    }
   ],
   "source": [
    "# Log-log plot\n",
    "########################################################################\n",
    "######################### Write your code here #########################\n",
    "########################################################################\n",
    "plt.figure(figsize=(10, 5))\n",
    "plt.loglog(ranks, frequencies, marker='.', linestyle='None')\n",
    "plt.title('Log-Log of Frequency vs. Rank')\n",
    "plt.xlabel('Rank (log scale)')\n",
    "plt.ylabel('Frequency (log scale)')\n",
    "plt.show()"
   ]
  },
  {
   "cell_type": "markdown",
   "metadata": {},
   "source": [
    "**(d) [10 pts across subparts]** Let's now try to make sense of the very last plot in part **(c)**. Zipf's law states that term frequency is governed by a power law, i.e. the relationship between term frequency and rank can be approximated by $f(r) = cr^{-1}$, where $f(r)$ is the frequency of the term at rank $r$, $r$ is the rank of a term, and $c$ is a constant that is approximately 0.1*(corpus size) for English.\n",
    "\n",
    "Please answer the following questions:\n",
    "\n",
    "**Subpart i [2 pts].** What do you observe in the log-log plot above? Is this consist with the power law?"
   ]
  },
  {
   "cell_type": "markdown",
   "metadata": {},
   "source": [
    "Your text answer (for this question, your answer is *not* code): *** WRITE YOUR ANSWER HERE ***\n",
    "\n",
    "The relationship between term frequency and rank can be approximated by $f(r) = cr^{-1}$. When we take the log of this, it becomes log(f(r))=log(c)−log(r). This resembles an inverse linear relationship expressed as y=mx+c where y=log(f(r)), m=−1, x=log(r), and b=log(c). As can be seen from my log-log plot, it is a straight line with a negative slope. This suggests that he log-log plot is consistent with power law. Typically, there are deviations, but the central tendency is linear. \n",
    "\n",
    "[Wikipedia] \n",
    "Word frequencies in natural languages\n",
    "\n",
    "In many texts in human languages, word frequencies approximately follow a Zipf distribution with the most common word occuring about n times the nth most common one.\n",
    "\n",
    "The actual rank-frequency plot of a natural language text deviates in some extent from the ideal Zipf distribution, especially at the two ends of the range. The deviations may depend on the language, on the topic of the text, on the author, on whether the text was translated from another language, on corpus size, and on the spelling rules used. Some deviation is inevitable because of sampling error.\n",
    "\n",
    "At the low-frequency end, where the rank approaches N, the plot takes a staircase shape, because each word can occur only an integer number of times."
   ]
  },
  {
   "cell_type": "markdown",
   "metadata": {},
   "source": [
    "**Subpart ii [4 pts].** Think of the corpus as a (large) unigram bag of words. Following the analogy from lecture, imagine drawing a single word from this big bag (note that we are assuming that we've lemmatized the words and also filtered out non-alphabetic words; thus what remains in the bag are actually alphabetic lemmas). What is the probability of drawing one of the 4 most frequent alphabetic lemmas? What is the probability of drawing one of the 50 most frequent alphabetic lemmas? Answer these two questions using code rather than just entering in the final answers as numbers."
   ]
  },
  {
   "cell_type": "code",
   "execution_count": 296,
   "metadata": {
    "scrolled": true
   },
   "outputs": [
    {
     "name": "stdout",
     "output_type": "stream",
     "text": [
      "Probability of drawing one of the 4 most frequent alphabeticlemmas: \n",
      "0.16231\n",
      "Probability of drawing one of the 50 most frequent alphabeticlemmas: \n",
      "0.48330\n"
     ]
    }
   ],
   "source": [
    "print('Probability of drawing one of the 4 most frequent alphabetic\\\n",
    "lemmas: ')\n",
    "########################################################################\n",
    "######################### Write your code here #########################\n",
    "########################################################################\n",
    "total=0\n",
    "total_top_4=0\n",
    "sorted_lemma_count_pairs_top_4 = histogram_with_some_filtering.\\\n",
    "most_common(4)\n",
    "for lemma, count in sorted_lemma_count_pairs_top_4:\n",
    "    total_top_4+=count\n",
    "\n",
    "frequencies = [freq for word, freq in histogram_with_some_filtering.\\\n",
    "               most_common()]\n",
    "for freq in frequencies:\n",
    "    total+=freq\n",
    "\n",
    "probability_top_4 = total_top_4/total\n",
    "print(f'{probability_top_4:.5f}')\n",
    "    \n",
    "\n",
    "print('Probability of drawing one of the 50 most frequent alphabetic\\\n",
    "lemmas: ')\n",
    "########################################################################\n",
    "######################### Write your code here #########################\n",
    "########################################################################\n",
    "total_top_50=0\n",
    "for lemma, count in sorted_lemma_count_pairs:\n",
    "    total_top_50+=count\n",
    "    \n",
    "probability_top_50 = total_top_50/total\n",
    "print(f'{probability_top_50:.5f}')"
   ]
  },
  {
   "cell_type": "markdown",
   "metadata": {},
   "source": [
    "**Subpart iii [4 pts].** What proportion of the alphabetic lemmas occur only once? What proportion of the alphabetic lemmas occur fewer than 10 times?"
   ]
  },
  {
   "cell_type": "code",
   "execution_count": 305,
   "metadata": {
    "scrolled": true
   },
   "outputs": [
    {
     "name": "stdout",
     "output_type": "stream",
     "text": [
      "Occur only once: \n",
      "0.44738\n",
      "Occur fewer than 10 times: \n",
      "0.78140\n"
     ]
    }
   ],
   "source": [
    "print(\"Occur only once: \")\n",
    "########################################################################\n",
    "######################### Write your code here #########################\n",
    "########################################################################\n",
    "occur_once=0\n",
    "frequency=0\n",
    "frequencies = [freq for word, freq in histogram_with_some_filtering.\\\n",
    "               most_common()]\n",
    "for freq in frequencies:\n",
    "    frequency+=freq\n",
    "    if (freq==1):\n",
    "        occur_once+=1\n",
    "\n",
    "probability_occur_once=occur_once/len(frequencies)\n",
    "print(f'{probability_occur_once:.5f}')\n",
    "\n",
    "print(\"Occur fewer than 10 times: \")\n",
    "########################################################################\n",
    "######################### Write your code here #########################\n",
    "########################################################################\n",
    "occur_fewer_than_10=0\n",
    "frequencies = [freq for word, freq in histogram_with_some_filtering.\\\n",
    "               most_common()]\n",
    "for freq in frequencies:\n",
    "    if (freq<10):\n",
    "        occur_fewer_than_10+=1\n",
    "\n",
    "probability_occur_fewer_than_10=occur_fewer_than_10/len(frequencies)\n",
    "print(f'{probability_occur_fewer_than_10:.5f}')"
   ]
  },
  {
   "cell_type": "markdown",
   "metadata": {},
   "source": [
    "### [Problem 2] Entity Recognition and Pointwise Mutual Information (PMI) [50 pts]\n",
    "By using the entity recognition system in `spaCy`, let's identify named entities from newspaper articles. You'll be using Reuters corpus which contains more than ten thousand newspaper articles. To run the code below, you need to download the Reuters dataset. To do so, in a terminal/command line (recall that you can open a terminal from Jupyter's webpage that shows all the files, which by default is [http://localhost:8888/tree](http://localhost:8888/tree)), start up Python and enter:\n",
    "\n",
    "```python\n",
    "import nltk\n",
    "nltk.download('reuters')\n",
    "```\n",
    "\n",
    "Then proceed to the problem subparts below.\n",
    "\n",
    "Note that in this problem you will need named entity recognition but not grammatical parsing. Hence, you will want to instantiate the nlp object by calling:\n",
    "\n",
    "```python\n",
    "nlp = spacy.load('en_core_web_sm', disable=['parser'])\n",
    "```\n"
   ]
  },
  {
   "cell_type": "markdown",
   "metadata": {},
   "source": [
    "**(a) [15 pts]** Draw a bar chart in which one of the axes shows entity labels and the other shows the frequency of the corresponding label. Use the variables `reuters_nlp` and `label_counter` provided in the code below."
   ]
  },
  {
   "cell_type": "code",
   "execution_count": 298,
   "metadata": {
    "scrolled": false
   },
   "outputs": [
    {
     "name": "stderr",
     "output_type": "stream",
     "text": [
      "/Users/gupta/anaconda3/lib/python3.11/site-packages/spacy/pipeline/lemmatizer.py:211: UserWarning: [W108] The rule-based lemmatizer did not find POS annotation for one or more tokens. Check that your pipeline includes components that assign token.pos, typically 'tagger'+'attribute_ruler' or 'morphologizer'.\n",
      "  warnings.warn(Warnings.W108)\n"
     ]
    },
    {
     "data": {
      "text/plain": [
       "Text(0, 0.5, 'Counts')"
      ]
     },
     "execution_count": 298,
     "metadata": {},
     "output_type": "execute_result"
    },
    {
     "data": {
      "image/png": "[encoded data removed]",
      "text/plain": [
       "<Figure size 1000x800 with 1 Axes>"
      ]
     },
     "metadata": {},
     "output_type": "display_data"
    }
   ],
   "source": [
    "import matplotlib.pyplot as plt\n",
    "from collections import Counter\n",
    "from nltk.corpus import reuters\n",
    "import re\n",
    "import spacy\n",
    "nlp = spacy.load('en_core_web_sm', disable=['parser', 'tagger'])\n",
    "reuters_fileids = reuters.fileids()  \n",
    "# hint: when first debugging, consider looking at just the first few\n",
    "reuters_nlp = [nlp(re.sub('\\s+',' ', reuters.raw(i)).strip()) \\\n",
    "               for i in reuters_fileids]\n",
    "label_counter = Counter()\n",
    "\n",
    "########################################################################\n",
    "######################### Write your code here #########################\n",
    "########################################################################\n",
    "for doc in reuters_nlp:\n",
    "    for token in doc:\n",
    "        entity= token.ent_type_\n",
    "        # there's a part of speech 'X' that stands for \"other\" \n",
    "        # and consists of mostly junk\n",
    "        \n",
    "        if entity:\n",
    "            label_counter[entity] += 1\n",
    "\n",
    "sorted_entity_count_pairs = label_counter.most_common()\n",
    "\n",
    "# Extracting the entity types and their corresponding counts\n",
    "entities = [entity for entity, count in sorted_entity_count_pairs]\n",
    "counts = [count for entity, count in sorted_entity_count_pairs]\n",
    "\n",
    "# Create the bar plot\n",
    "plt.figure(figsize=(10, 8)) \n",
    "plt.bar(entities, counts, color='skyblue')\n",
    "\n",
    "# Rotate the x labels to make them readable\n",
    "plt.xticks(rotation=90)\n",
    "\n",
    "# Add title and labels to the plot\n",
    "plt.title('Frequency of Entity Types')\n",
    "plt.xlabel('Entity Types')\n",
    "plt.ylabel('Counts')"
   ]
  },
  {
   "cell_type": "markdown",
   "metadata": {},
   "source": [
    "**(b) [15 pts]** Now list the top 10 most frequently occurring entities (entity text and the number of occurence) with label `ORG` (organization). Separately list the top 10 most frequently occurring entities with label `GPE` (geopolitical entity such as countries, cities, states) respectively. **In both cases, please convert the entity names to lowercase first before computing the top 10.**\n",
    "\n",
    "Here, when counting the (raw count) frequency, we need to count how many articles have an entity with the desired property. For every article, we add 1 if the article has the entity and 0 otherwise."
   ]
  },
  {
   "cell_type": "code",
   "execution_count": 299,
   "metadata": {},
   "outputs": [
    {
     "name": "stdout",
     "output_type": "stream",
     "text": [
      "Top 10 ORG Entities:\n",
      "cts: 1115\n",
      "reuters: 444\n",
      "the securities and exchange commission: 248\n",
      "ec: 231\n",
      "fed: 230\n",
      "treasury: 228\n",
      "cts net: 179\n",
      "the u.s. agriculture department: 170\n",
      "usda: 154\n",
      "the bank of england: 143\n",
      "\n",
      "Top 10 GPE Entities:\n",
      "u.s.: 1631\n",
      "japan: 579\n",
      "the united states: 383\n",
      "u.k.: 297\n",
      "canada: 295\n",
      "new york: 251\n",
      "west germany: 236\n",
      "washington: 230\n",
      "london: 216\n",
      "brazil: 201\n"
     ]
    }
   ],
   "source": [
    "########################################################################\n",
    "######################### Write your code here #########################\n",
    "########################################################################\n",
    "\n",
    "org_counter = Counter()\n",
    "gpe_counter = Counter()\n",
    "\n",
    "for doc in reuters_nlp:\n",
    "    # Use sets to store unique entities per article\n",
    "    org_entities = set()\n",
    "    gpe_entities = set()\n",
    "\n",
    "    for ent in doc.ents:\n",
    "        if ent.label_ == 'ORG':\n",
    "            org_entities.add(ent.text.lower())\n",
    "\n",
    "        elif ent.label_ == 'GPE':\n",
    "            gpe_entities.add(ent.text.lower())\n",
    "\n",
    "    for org in org_entities:\n",
    "        org_counter[org] += 1\n",
    "\n",
    "    for gpe in gpe_entities:\n",
    "        gpe_counter[gpe] += 1\n",
    "\n",
    "top_10_org_entities = org_counter.most_common(10)\n",
    "top_10_gpe_entities = gpe_counter.most_common(10)\n",
    "\n",
    "print(\"Top 10 ORG Entities:\")\n",
    "for entity, count in top_10_org_entities:\n",
    "    print(f\"{entity}: {count}\")\n",
    "\n",
    "print(\"\\nTop 10 GPE Entities:\")\n",
    "for entity, count in top_10_gpe_entities:\n",
    "    print(f\"{entity}: {count}\")"
   ]
  },
  {
   "cell_type": "markdown",
   "metadata": {},
   "source": [
    "**(c) [20 pts]** Give the top 50 `GPE` (countries, cities, states) entities that have the highest Pointwise Mutual Information (PMI) values with regard to the `ORG` (organization) entity **'opec'** (your list of this top 50 should be ranked in decreasing PMI value). Did you find any unexpected results? If so, why do you think it happened? If you found some of the results to be unsurprisingly, how come? **Just like in the previous part, please convert entity names to lowercase in your analysis.**\n",
    "\n",
    "Hint 1: As in lecture, when computing PMI, we will compute probabilities by counting the number of documents where entities occur or co-occur.  For example, $P('opec') = \\frac{number \\ \\ of \\ \\ documents \\ \\ containing \\ \\ 'opec'}{number \\ \\ of \\ \\ documents}$.  \n",
    "\n",
    "Hint 2: To compute this ranking, you do not have to compute the full PMI equation."
   ]
  },
  {
   "cell_type": "code",
   "execution_count": 300,
   "metadata": {},
   "outputs": [
    {
     "name": "stdout",
     "output_type": "stream",
     "text": [
      "u.s.: 39\n",
      "kuwait: 27\n",
      "saudi arabia: 27\n",
      "ecuador: 25\n",
      "venezuela: 17\n",
      "vienna: 17\n",
      "qatar: 15\n",
      "iraq: 12\n",
      "the united arab emirates: 11\n",
      "saudi arabia's: 11\n",
      "japan: 11\n",
      "iran: 11\n",
      "nigeria: 9\n",
      "balao: 8\n",
      "the united states: 8\n",
      "britain: 7\n",
      "canada: 7\n",
      "mexico: 6\n",
      "indonesia: 6\n",
      "libya: 6\n",
      "algeria: 6\n",
      "norway: 5\n",
      "new york: 5\n",
      "egypt: 5\n",
      "the soviet union: 5\n",
      "caracas: 5\n",
      "colombia: 4\n",
      "riyadh: 4\n",
      "london: 4\n",
      "turkey: 4\n",
      "dubai: 4\n",
      "tokyo: 4\n",
      "u.k.: 4\n",
      "west germany: 4\n",
      "quito: 4\n",
      "jakarta: 4\n",
      "alaska: 3\n",
      "malaysia: 3\n",
      "kuwaiti: 3\n",
      "washington: 3\n",
      "bahrain: 3\n",
      "france: 3\n",
      "geneva: 3\n",
      "sweden: 2\n",
      "brent: 2\n",
      "singapore: 2\n",
      "oman: 2\n",
      "emirates: 2\n",
      "texas: 2\n",
      "paris: 2\n"
     ]
    }
   ],
   "source": [
    "########################################################################\n",
    "######################### Write your code here #########################\n",
    "########################################################################\n",
    "from math import log  # natural log\n",
    "\n",
    "count_opec=0\n",
    "gpe_counter = Counter()\n",
    "gpe_cooccurrence_with_opec= Counter()\n",
    "\n",
    "for doc in reuters_nlp:\n",
    "    # Use sets to store unique entities per article\n",
    "    gpe_entities = set()\n",
    "    has_opec=False\n",
    "\n",
    "    for ent in doc.ents:\n",
    "        if ent.label_ == 'ORG'and ent.text.lower() == 'opec':\n",
    "            has_opec=True\n",
    "\n",
    "        elif ent.label_ == 'GPE':\n",
    "            gpe_entities.add(ent.text.lower())\n",
    "            \n",
    "    if has_opec:\n",
    "        count_opec += 1\n",
    "        \n",
    "    for gpe in gpe_entities:\n",
    "        gpe_counter[gpe] += 1\n",
    "        if has_opec:\n",
    "            gpe_cooccurrence_with_opec[gpe] += 1\n",
    "\n",
    "# Calculate PMI scores (just the numerator)\n",
    "pmi_scores = {}\n",
    "for gpe in gpe_cooccurrence_with_opec:\n",
    "    p_x_and_y = gpe_cooccurrence_with_opec[gpe]\n",
    "    pmi_scores[gpe] = p_x_and_y \n",
    "\n",
    "# Sort the GPEs by PMI score and get the top 50\n",
    "top_50_gpe_by_pmi = sorted(pmi_scores.items(), \\\n",
    "                           key=lambda item: item[1], \\\n",
    "                           reverse=True)[:50]\n",
    "\n",
    "# Print the results\n",
    "for gpe, score in top_50_gpe_by_pmi:\n",
    "    print(f\"{gpe}: {score}\")"
   ]
  },
  {
   "cell_type": "markdown",
   "metadata": {},
   "source": [
    "Your text answer (for this question, your answer is *not* code): *** WRITE YOUR ANSWER HERE ***\n",
    "\n",
    "Expected Findings:\n",
    "1. The Organization of the Petroleum Exporting Countries (OPEC) was founded in Baghdad, Iraq, with the signing of an agreement in September 1960 by five countries namely Islamic Republic of Iran, Iraq, Kuwait, Saudi Arabia and Venezuela. They were to become the Founder Members of the Organization. These countries were later joined by Qatar (1961), Indonesia (1962), Libya (1962), the United Arab Emirates (1967), Algeria (1969), Nigeria (1971), Ecuador (1973), Gabon (1975), Angola (2007), Equatorial Guinea (2017) and Congo (2018). These countries are unsurprisingly on the list with high PMI scores. This is because OPEC-related news is likely to mention these countries frequently due to their direct involvement in OPEC decisions and oil production policies.\n",
    "2. Major oil consumers or influential countries in global politics and economics, such as the U.S., Japan, Britain, Canada, and the Soviet Union, are also expected to have a high PMI with OPEC. These countries' energy policies, oil demand, and geopolitical actions are often in the context of OPEC's movements and decisions.\n",
    "\n",
    "Unexpected or Noteworthy Observations:\n",
    "1. The presence of cities like Vienna, New York, London, Tokyo, and others alongside countries may initially seem unexpected since they are not countries, but these cities are major financial or political hubs where significant decisions affecting the oil market might take place, such as OPEC meetings in Vienna or energy conferences in London.\n",
    "2. The differentiation between 'u.s.' and 'the united states' as separate entities could indicate an inconsistency in the entity recognition process or different contexts in which they are mentioned. This could be an artifact of the natural language processing used to parse the documents.\n",
    "3. Entities like 'saudi arabia' and 'saudi arabia's' are listed separately, which could be another indication of a need for normalization in the entity recognition process to ensure that possessive forms are not counted as distinct entities.\n",
    "4. Some of the expected results like: Gabon (1975), Angola (2007), Equatorial Guinea (2017) and Congo (2018) are not in the list at all. As these are related to the opec (though were the last among members to join), they should be present in the articles with open which isn't the case. \n",
    "\n",
    "Interpretation of Findings:\n",
    "1. The high PMI scores of OPEC member countries are expected due to their direct relevance to OPEC-related news.\n",
    "2. Non-OPEC countries with significant PMI scores indicate the global impact of OPEC decisions. Countries with notable oil markets, whether as consumers or alternative suppliers, naturally discuss OPEC in the context of how its decisions affect their own markets.\n",
    "3. Cities listed may reflect the locations of important events relating to the oil industry, showing their relevance in OPEC-related discourse.\n",
    "\n",
    "Why the Results Make Sense:\n",
    "1. These results are largely in line with what one would expect given the role of OPEC in global energy markets. Member countries, major oil producers, and consumers are inherently tied to OPEC's actions and would co-occur with 'opec' frequently in the news. \n",
    "2. Cities known for hosting important meetings or having significant exchanges may also be mentioned often in relation to OPEC. \n",
    "3. The PMI metric helps to surface these relationships by highlighting the entities that co-occur with 'opec' more often than would be expected by chance, underscoring the interconnectedness of global geopolitical and economic dynamics."
   ]
  },
  {
   "cell_type": "markdown",
   "metadata": {},
   "source": [
    "### [Problem 3] Questionnaire [5 pts]\n",
    "\n",
    "Please provide feedback! To receive the 5 points, be sure to enter your Andrew ID correctly in this Google form: https://forms.gle/8heZamsAnE8S7VTWA"
   ]
  }
 ],
 "metadata": {
  "anaconda-cloud": {},
  "kernelspec": {
   "display_name": "Python 3 (ipykernel)",
   "language": "python",
   "name": "python3"
  },
  "language_info": {
   "codemirror_mode": {
    "name": "ipython",
    "version": 3
   },
   "file_extension": ".py",
   "mimetype": "text/x-python",
   "name": "python",
   "nbconvert_exporter": "python",
   "pygments_lexer": "ipython3",
   "version": "3.11.4"
  }
 },
 "nbformat": 4,
 "nbformat_minor": 2
}
